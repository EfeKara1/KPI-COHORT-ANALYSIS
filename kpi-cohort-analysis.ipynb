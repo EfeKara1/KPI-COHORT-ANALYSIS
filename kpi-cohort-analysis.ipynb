{
 "cells": [
  {
   "cell_type": "code",
   "execution_count": 1,
   "metadata": {
    "_cell_guid": "b1076dfc-b9ad-4769-8c92-a6c4dae69d19",
    "_uuid": "8f2839f25d086af736a60e9eeb907d3b93b6e0e5",
    "execution": {
     "iopub.execute_input": "2021-03-25T12:33:23.077336Z",
     "iopub.status.busy": "2021-03-25T12:33:23.076603Z",
     "iopub.status.idle": "2021-03-25T12:33:23.095329Z",
     "shell.execute_reply": "2021-03-25T12:33:23.094071Z"
    },
    "papermill": {
     "duration": 0.045516,
     "end_time": "2021-03-25T12:33:23.095687",
     "exception": false,
     "start_time": "2021-03-25T12:33:23.050171",
     "status": "completed"
    },
    "tags": []
   },
   "outputs": [
    {
     "name": "stdout",
     "output_type": "stream",
     "text": [
      "/kaggle/input/onlineretail1/online_retail.xlsx\n"
     ]
    }
   ],
   "source": [
    "# This Python 3 environment comes with many helpful analytics libraries installed\n",
    "# It is defined by the kaggle/python Docker image: https://github.com/kaggle/docker-python\n",
    "# For example, here's several helpful packages to load\n",
    "\n",
    "import numpy as np # linear algebra\n",
    "import pandas as pd # data processing, CSV file I/O (e.g. pd.read_csv)\n",
    "\n",
    "# Input data files are available in the read-only \"../input/\" directory\n",
    "# For example, running this (by clicking run or pressing Shift+Enter) will list all files under the input directory\n",
    "\n",
    "import os\n",
    "for dirname, _, filenames in os.walk('/kaggle/input'):\n",
    "    for filename in filenames:\n",
    "        print(os.path.join(dirname, filename))\n",
    "\n",
    "# You can write up to 20GB to the current directory (/kaggle/working/) that gets preserved as output when you create a version using \"Save & Run All\" \n",
    "# You can also write temporary files to /kaggle/temp/, but they won't be saved outside of the current session"
   ]
  },
  {
   "cell_type": "markdown",
   "metadata": {
    "papermill": {
     "duration": 0.017867,
     "end_time": "2021-03-25T12:33:23.134081",
     "exception": false,
     "start_time": "2021-03-25T12:33:23.116214",
     "status": "completed"
    },
    "tags": []
   },
   "source": [
    "############################################\n",
    "# KPI & COHORT ANALYSIS: RETENTION RATE\n",
    "############################################\n",
    "\n",
    "# RETENTION RATE'S KPI COHORT ANALYSIS IN 3 STEPS\n",
    "\n",
    "\n",
    "# 1. Data Preprocessing\n",
    "# 2. Creating retention matrix\n",
    "#    1. Calculating unique orders for every customer\n",
    "#    2. Number of customers who have placed orders more than once in the entire dataset\n",
    "#    3. Catching order months\n",
    "#    4. Generating of cohort variable\n",
    "#    5. Extracting number of customers per month\n",
    "#    6. Extracting period number\n",
    "#    7. Generating cohort_pivot\n",
    "#    8. Generating Retention_matrix\n",
    "# 3.Visualization of retention matrix with heatmap"
   ]
  },
  {
   "cell_type": "code",
   "execution_count": 2,
   "metadata": {
    "execution": {
     "iopub.execute_input": "2021-03-25T12:33:23.179004Z",
     "iopub.status.busy": "2021-03-25T12:33:23.178223Z",
     "iopub.status.idle": "2021-03-25T12:33:46.268007Z",
     "shell.execute_reply": "2021-03-25T12:33:46.268786Z"
    },
    "papermill": {
     "duration": 23.116724,
     "end_time": "2021-03-25T12:33:46.268959",
     "exception": false,
     "start_time": "2021-03-25T12:33:23.152235",
     "status": "completed"
    },
    "tags": []
   },
   "outputs": [
    {
     "name": "stdout",
     "output_type": "stream",
     "text": [
      "Collecting xlrd\r\n",
      "  Downloading xlrd-2.0.1-py2.py3-none-any.whl (96 kB)\r\n",
      "\u001b[K     |████████████████████████████████| 96 kB 370 kB/s \r\n",
      "\u001b[?25hInstalling collected packages: xlrd\r\n",
      "Successfully installed xlrd-2.0.1\r\n",
      "Collecting openpyxl\r\n",
      "  Downloading openpyxl-3.0.7-py2.py3-none-any.whl (243 kB)\r\n",
      "\u001b[K     |████████████████████████████████| 243 kB 412 kB/s \r\n",
      "\u001b[?25hCollecting et-xmlfile\r\n",
      "  Downloading et_xmlfile-1.0.1.tar.gz (8.4 kB)\r\n",
      "Building wheels for collected packages: et-xmlfile\r\n",
      "  Building wheel for et-xmlfile (setup.py) ... \u001b[?25l-\b \b\\\b \bdone\r\n",
      "\u001b[?25h  Created wheel for et-xmlfile: filename=et_xmlfile-1.0.1-py3-none-any.whl size=8913 sha256=235ad7c5accb4bc0107d19dfebb2fd35742be7662628e41ec7cf38b2769d7b29\r\n",
      "  Stored in directory: /root/.cache/pip/wheels/e2/bd/55/048b4fd505716c4c298f42ee02dffd9496bb6d212b266c7f31\r\n",
      "Successfully built et-xmlfile\r\n",
      "Installing collected packages: et-xmlfile, openpyxl\r\n",
      "Successfully installed et-xmlfile-1.0.1 openpyxl-3.0.7\r\n"
     ]
    }
   ],
   "source": [
    "####################################\n",
    "# 1. Data Preprocessing\n",
    "####################################\n",
    "\n",
    "\n",
    "\n",
    "import numpy as np\n",
    "import pandas as pd\n",
    "pd.set_option('display.max_rows', 10)\n",
    "import matplotlib.pyplot as plt\n",
    "import warnings\n",
    "import seaborn as sns\n",
    "from operator import attrgetter\n",
    "import matplotlib.colors as mcolors\n",
    "!pip install xlrd\n",
    "!pip install openpyxl"
   ]
  },
  {
   "cell_type": "code",
   "execution_count": 3,
   "metadata": {
    "execution": {
     "iopub.execute_input": "2021-03-25T12:33:46.329077Z",
     "iopub.status.busy": "2021-03-25T12:33:46.328084Z",
     "iopub.status.idle": "2021-03-25T12:35:42.754855Z",
     "shell.execute_reply": "2021-03-25T12:35:42.752191Z"
    },
    "papermill": {
     "duration": 116.46037,
     "end_time": "2021-03-25T12:35:42.755223",
     "exception": false,
     "start_time": "2021-03-25T12:33:46.294853",
     "status": "completed"
    },
    "tags": []
   },
   "outputs": [],
   "source": [
    "df_ = pd.read_excel('../input/onlineretail1/online_retail.xlsx',\n",
    "                   dtype={'CustomerID': str,\n",
    "                          'InvoiceID': str},\n",
    "                   parse_dates=['InvoiceDate'])"
   ]
  },
  {
   "cell_type": "code",
   "execution_count": 4,
   "metadata": {
    "execution": {
     "iopub.execute_input": "2021-03-25T12:35:42.814949Z",
     "iopub.status.busy": "2021-03-25T12:35:42.813637Z",
     "iopub.status.idle": "2021-03-25T12:35:42.857112Z",
     "shell.execute_reply": "2021-03-25T12:35:42.857615Z"
    },
    "papermill": {
     "duration": 0.075601,
     "end_time": "2021-03-25T12:35:42.857817",
     "exception": false,
     "start_time": "2021-03-25T12:35:42.782216",
     "status": "completed"
    },
    "tags": []
   },
   "outputs": [],
   "source": [
    "df=df_.copy()"
   ]
  },
  {
   "cell_type": "code",
   "execution_count": 5,
   "metadata": {
    "execution": {
     "iopub.execute_input": "2021-03-25T12:35:42.915430Z",
     "iopub.status.busy": "2021-03-25T12:35:42.914420Z",
     "iopub.status.idle": "2021-03-25T12:35:42.942583Z",
     "shell.execute_reply": "2021-03-25T12:35:42.941833Z"
    },
    "papermill": {
     "duration": 0.057482,
     "end_time": "2021-03-25T12:35:42.942741",
     "exception": false,
     "start_time": "2021-03-25T12:35:42.885259",
     "status": "completed"
    },
    "tags": []
   },
   "outputs": [
    {
     "data": {
      "text/html": [
       "<div>\n",
       "<style scoped>\n",
       "    .dataframe tbody tr th:only-of-type {\n",
       "        vertical-align: middle;\n",
       "    }\n",
       "\n",
       "    .dataframe tbody tr th {\n",
       "        vertical-align: top;\n",
       "    }\n",
       "\n",
       "    .dataframe thead th {\n",
       "        text-align: right;\n",
       "    }\n",
       "</style>\n",
       "<table border=\"1\" class=\"dataframe\">\n",
       "  <thead>\n",
       "    <tr style=\"text-align: right;\">\n",
       "      <th></th>\n",
       "      <th>InvoiceNo</th>\n",
       "      <th>StockCode</th>\n",
       "      <th>Description</th>\n",
       "      <th>Quantity</th>\n",
       "      <th>InvoiceDate</th>\n",
       "      <th>UnitPrice</th>\n",
       "      <th>CustomerID</th>\n",
       "      <th>Country</th>\n",
       "    </tr>\n",
       "  </thead>\n",
       "  <tbody>\n",
       "    <tr>\n",
       "      <th>0</th>\n",
       "      <td>536365</td>\n",
       "      <td>85123A</td>\n",
       "      <td>WHITE HANGING HEART T-LIGHT HOLDER</td>\n",
       "      <td>6</td>\n",
       "      <td>2010-12-01 08:26:00</td>\n",
       "      <td>2.55</td>\n",
       "      <td>17850</td>\n",
       "      <td>United Kingdom</td>\n",
       "    </tr>\n",
       "    <tr>\n",
       "      <th>1</th>\n",
       "      <td>536365</td>\n",
       "      <td>71053</td>\n",
       "      <td>WHITE METAL LANTERN</td>\n",
       "      <td>6</td>\n",
       "      <td>2010-12-01 08:26:00</td>\n",
       "      <td>3.39</td>\n",
       "      <td>17850</td>\n",
       "      <td>United Kingdom</td>\n",
       "    </tr>\n",
       "    <tr>\n",
       "      <th>2</th>\n",
       "      <td>536365</td>\n",
       "      <td>84406B</td>\n",
       "      <td>CREAM CUPID HEARTS COAT HANGER</td>\n",
       "      <td>8</td>\n",
       "      <td>2010-12-01 08:26:00</td>\n",
       "      <td>2.75</td>\n",
       "      <td>17850</td>\n",
       "      <td>United Kingdom</td>\n",
       "    </tr>\n",
       "    <tr>\n",
       "      <th>3</th>\n",
       "      <td>536365</td>\n",
       "      <td>84029G</td>\n",
       "      <td>KNITTED UNION FLAG HOT WATER BOTTLE</td>\n",
       "      <td>6</td>\n",
       "      <td>2010-12-01 08:26:00</td>\n",
       "      <td>3.39</td>\n",
       "      <td>17850</td>\n",
       "      <td>United Kingdom</td>\n",
       "    </tr>\n",
       "    <tr>\n",
       "      <th>4</th>\n",
       "      <td>536365</td>\n",
       "      <td>84029E</td>\n",
       "      <td>RED WOOLLY HOTTIE WHITE HEART.</td>\n",
       "      <td>6</td>\n",
       "      <td>2010-12-01 08:26:00</td>\n",
       "      <td>3.39</td>\n",
       "      <td>17850</td>\n",
       "      <td>United Kingdom</td>\n",
       "    </tr>\n",
       "  </tbody>\n",
       "</table>\n",
       "</div>"
      ],
      "text/plain": [
       "  InvoiceNo StockCode                          Description  Quantity  \\\n",
       "0    536365    85123A   WHITE HANGING HEART T-LIGHT HOLDER         6   \n",
       "1    536365     71053                  WHITE METAL LANTERN         6   \n",
       "2    536365    84406B       CREAM CUPID HEARTS COAT HANGER         8   \n",
       "3    536365    84029G  KNITTED UNION FLAG HOT WATER BOTTLE         6   \n",
       "4    536365    84029E       RED WOOLLY HOTTIE WHITE HEART.         6   \n",
       "\n",
       "          InvoiceDate  UnitPrice CustomerID         Country  \n",
       "0 2010-12-01 08:26:00       2.55      17850  United Kingdom  \n",
       "1 2010-12-01 08:26:00       3.39      17850  United Kingdom  \n",
       "2 2010-12-01 08:26:00       2.75      17850  United Kingdom  \n",
       "3 2010-12-01 08:26:00       3.39      17850  United Kingdom  \n",
       "4 2010-12-01 08:26:00       3.39      17850  United Kingdom  "
      ]
     },
     "execution_count": 5,
     "metadata": {},
     "output_type": "execute_result"
    }
   ],
   "source": [
    "df.head()"
   ]
  },
  {
   "cell_type": "code",
   "execution_count": 6,
   "metadata": {
    "execution": {
     "iopub.execute_input": "2021-03-25T12:35:43.002511Z",
     "iopub.status.busy": "2021-03-25T12:35:43.001384Z",
     "iopub.status.idle": "2021-03-25T12:35:43.005543Z",
     "shell.execute_reply": "2021-03-25T12:35:43.006016Z"
    },
    "papermill": {
     "duration": 0.035953,
     "end_time": "2021-03-25T12:35:43.006201",
     "exception": false,
     "start_time": "2021-03-25T12:35:42.970248",
     "status": "completed"
    },
    "tags": []
   },
   "outputs": [
    {
     "data": {
      "text/plain": [
       "(541909, 8)"
      ]
     },
     "execution_count": 6,
     "metadata": {},
     "output_type": "execute_result"
    }
   ],
   "source": [
    "df.shape"
   ]
  },
  {
   "cell_type": "code",
   "execution_count": 7,
   "metadata": {
    "execution": {
     "iopub.execute_input": "2021-03-25T12:35:43.069633Z",
     "iopub.status.busy": "2021-03-25T12:35:43.068635Z",
     "iopub.status.idle": "2021-03-25T12:35:43.376245Z",
     "shell.execute_reply": "2021-03-25T12:35:43.375576Z"
    },
    "papermill": {
     "duration": 0.340532,
     "end_time": "2021-03-25T12:35:43.376419",
     "exception": false,
     "start_time": "2021-03-25T12:35:43.035887",
     "status": "completed"
    },
    "tags": []
   },
   "outputs": [
    {
     "name": "stdout",
     "output_type": "stream",
     "text": [
      "<class 'pandas.core.frame.DataFrame'>\n",
      "RangeIndex: 541909 entries, 0 to 541908\n",
      "Data columns (total 8 columns):\n",
      " #   Column       Non-Null Count   Dtype         \n",
      "---  ------       --------------   -----         \n",
      " 0   InvoiceNo    541909 non-null  object        \n",
      " 1   StockCode    541909 non-null  object        \n",
      " 2   Description  540455 non-null  object        \n",
      " 3   Quantity     541909 non-null  int64         \n",
      " 4   InvoiceDate  541909 non-null  datetime64[ns]\n",
      " 5   UnitPrice    541909 non-null  float64       \n",
      " 6   CustomerID   406829 non-null  object        \n",
      " 7   Country      541909 non-null  object        \n",
      "dtypes: datetime64[ns](1), float64(1), int64(1), object(5)\n",
      "memory usage: 33.1+ MB\n"
     ]
    }
   ],
   "source": [
    "df.info()"
   ]
  },
  {
   "cell_type": "code",
   "execution_count": 8,
   "metadata": {
    "execution": {
     "iopub.execute_input": "2021-03-25T12:35:43.440288Z",
     "iopub.status.busy": "2021-03-25T12:35:43.439452Z",
     "iopub.status.idle": "2021-03-25T12:35:43.581538Z",
     "shell.execute_reply": "2021-03-25T12:35:43.580801Z"
    },
    "papermill": {
     "duration": 0.177471,
     "end_time": "2021-03-25T12:35:43.581685",
     "exception": false,
     "start_time": "2021-03-25T12:35:43.404214",
     "status": "completed"
    },
    "tags": []
   },
   "outputs": [],
   "source": [
    "df.dropna(subset=[\"CustomerID\"],inplace=True)"
   ]
  },
  {
   "cell_type": "code",
   "execution_count": 9,
   "metadata": {
    "execution": {
     "iopub.execute_input": "2021-03-25T12:35:43.647787Z",
     "iopub.status.busy": "2021-03-25T12:35:43.646996Z",
     "iopub.status.idle": "2021-03-25T12:35:43.786826Z",
     "shell.execute_reply": "2021-03-25T12:35:43.786247Z"
    },
    "papermill": {
     "duration": 0.175503,
     "end_time": "2021-03-25T12:35:43.786985",
     "exception": false,
     "start_time": "2021-03-25T12:35:43.611482",
     "status": "completed"
    },
    "tags": []
   },
   "outputs": [],
   "source": [
    "df=df[[\"CustomerID\",\"InvoiceNo\",\"InvoiceDate\"]].drop_duplicates()"
   ]
  },
  {
   "cell_type": "code",
   "execution_count": 10,
   "metadata": {
    "execution": {
     "iopub.execute_input": "2021-03-25T12:35:43.855024Z",
     "iopub.status.busy": "2021-03-25T12:35:43.853981Z",
     "iopub.status.idle": "2021-03-25T12:35:43.858721Z",
     "shell.execute_reply": "2021-03-25T12:35:43.859416Z"
    },
    "papermill": {
     "duration": 0.043491,
     "end_time": "2021-03-25T12:35:43.859628",
     "exception": false,
     "start_time": "2021-03-25T12:35:43.816137",
     "status": "completed"
    },
    "tags": []
   },
   "outputs": [
    {
     "data": {
      "text/plain": [
       "(22221, 3)"
      ]
     },
     "execution_count": 10,
     "metadata": {},
     "output_type": "execute_result"
    }
   ],
   "source": [
    "df.shape"
   ]
  },
  {
   "cell_type": "code",
   "execution_count": 11,
   "metadata": {
    "execution": {
     "iopub.execute_input": "2021-03-25T12:35:43.927369Z",
     "iopub.status.busy": "2021-03-25T12:35:43.926711Z",
     "iopub.status.idle": "2021-03-25T12:35:43.930032Z",
     "shell.execute_reply": "2021-03-25T12:35:43.929335Z"
    },
    "papermill": {
     "duration": 0.0383,
     "end_time": "2021-03-25T12:35:43.930178",
     "exception": false,
     "start_time": "2021-03-25T12:35:43.891878",
     "status": "completed"
    },
    "tags": []
   },
   "outputs": [],
   "source": [
    "####################################\n",
    "# 2. Creating retention matrix\n",
    "####################################"
   ]
  },
  {
   "cell_type": "code",
   "execution_count": 12,
   "metadata": {
    "execution": {
     "iopub.execute_input": "2021-03-25T12:35:43.998448Z",
     "iopub.status.busy": "2021-03-25T12:35:43.997770Z",
     "iopub.status.idle": "2021-03-25T12:35:44.022741Z",
     "shell.execute_reply": "2021-03-25T12:35:44.022155Z"
    },
    "papermill": {
     "duration": 0.064346,
     "end_time": "2021-03-25T12:35:44.022902",
     "exception": false,
     "start_time": "2021-03-25T12:35:43.958556",
     "status": "completed"
    },
    "tags": []
   },
   "outputs": [],
   "source": [
    "#1. Calculating unique orders for every customer\n",
    "n_orders = df.groupby(['CustomerID'])['InvoiceNo'].nunique()"
   ]
  },
  {
   "cell_type": "code",
   "execution_count": 13,
   "metadata": {
    "execution": {
     "iopub.execute_input": "2021-03-25T12:35:44.094440Z",
     "iopub.status.busy": "2021-03-25T12:35:44.093778Z",
     "iopub.status.idle": "2021-03-25T12:35:44.102587Z",
     "shell.execute_reply": "2021-03-25T12:35:44.101893Z"
    },
    "papermill": {
     "duration": 0.050684,
     "end_time": "2021-03-25T12:35:44.102746",
     "exception": false,
     "start_time": "2021-03-25T12:35:44.052062",
     "status": "completed"
    },
    "tags": []
   },
   "outputs": [
    {
     "data": {
      "text/plain": [
       "69.967978042086"
      ]
     },
     "execution_count": 13,
     "metadata": {},
     "output_type": "execute_result"
    }
   ],
   "source": [
    "#2.Number of customers who have placed orders more than once in the entire dataset\n",
    "orders_perc=np.sum(n_orders>1)/df[\"CustomerID\"].nunique()\n",
    "100*orders_perc"
   ]
  },
  {
   "cell_type": "code",
   "execution_count": 14,
   "metadata": {
    "execution": {
     "iopub.execute_input": "2021-03-25T12:35:44.181877Z",
     "iopub.status.busy": "2021-03-25T12:35:44.181176Z",
     "iopub.status.idle": "2021-03-25T12:35:44.185341Z",
     "shell.execute_reply": "2021-03-25T12:35:44.184663Z"
    },
    "papermill": {
     "duration": 0.050692,
     "end_time": "2021-03-25T12:35:44.185527",
     "exception": false,
     "start_time": "2021-03-25T12:35:44.134835",
     "status": "completed"
    },
    "tags": []
   },
   "outputs": [],
   "source": [
    "# 3. Catching order months\n",
    "df[\"order_month\"]=df[\"InvoiceDate\"].dt.to_period(\"M\")"
   ]
  },
  {
   "cell_type": "code",
   "execution_count": 15,
   "metadata": {
    "execution": {
     "iopub.execute_input": "2021-03-25T12:35:44.256898Z",
     "iopub.status.busy": "2021-03-25T12:35:44.256056Z",
     "iopub.status.idle": "2021-03-25T12:35:44.280161Z",
     "shell.execute_reply": "2021-03-25T12:35:44.279618Z"
    },
    "papermill": {
     "duration": 0.061326,
     "end_time": "2021-03-25T12:35:44.280310",
     "exception": false,
     "start_time": "2021-03-25T12:35:44.218984",
     "status": "completed"
    },
    "tags": []
   },
   "outputs": [],
   "source": [
    "#4.Generating of cohort variable\n",
    "df[\"cohort\"]=df.groupby(\"CustomerID\")[\"InvoiceDate\"].transform(\"min\").dt.to_period(\"M\")"
   ]
  },
  {
   "cell_type": "code",
   "execution_count": 16,
   "metadata": {
    "execution": {
     "iopub.execute_input": "2021-03-25T12:35:44.348299Z",
     "iopub.status.busy": "2021-03-25T12:35:44.347487Z",
     "iopub.status.idle": "2021-03-25T12:35:44.374574Z",
     "shell.execute_reply": "2021-03-25T12:35:44.373869Z"
    },
    "papermill": {
     "duration": 0.064164,
     "end_time": "2021-03-25T12:35:44.374752",
     "exception": false,
     "start_time": "2021-03-25T12:35:44.310588",
     "status": "completed"
    },
    "tags": []
   },
   "outputs": [],
   "source": [
    "#5.Extracting number of customers per month\n",
    "df_cohort=df.groupby([\"cohort\",\"order_month\"]).agg(n_customers=(\"CustomerID\",\"nunique\")).reset_index(drop=False)"
   ]
  },
  {
   "cell_type": "code",
   "execution_count": 17,
   "metadata": {
    "execution": {
     "iopub.execute_input": "2021-03-25T12:35:44.448219Z",
     "iopub.status.busy": "2021-03-25T12:35:44.447350Z",
     "iopub.status.idle": "2021-03-25T12:35:44.451118Z",
     "shell.execute_reply": "2021-03-25T12:35:44.451752Z"
    },
    "papermill": {
     "duration": 0.044153,
     "end_time": "2021-03-25T12:35:44.452157",
     "exception": false,
     "start_time": "2021-03-25T12:35:44.408004",
     "status": "completed"
    },
    "tags": []
   },
   "outputs": [
    {
     "data": {
      "text/plain": [
       "0    <0 * MonthEnds>\n",
       "1         <MonthEnd>\n",
       "2    <2 * MonthEnds>\n",
       "3    <3 * MonthEnds>\n",
       "4    <4 * MonthEnds>\n",
       "dtype: object"
      ]
     },
     "execution_count": 17,
     "metadata": {},
     "output_type": "execute_result"
    }
   ],
   "source": [
    "#6.Extracting period number\n",
    "(df_cohort.order_month-df_cohort.cohort).head()"
   ]
  },
  {
   "cell_type": "code",
   "execution_count": 18,
   "metadata": {
    "execution": {
     "iopub.execute_input": "2021-03-25T12:35:44.523507Z",
     "iopub.status.busy": "2021-03-25T12:35:44.522762Z",
     "iopub.status.idle": "2021-03-25T12:35:44.526625Z",
     "shell.execute_reply": "2021-03-25T12:35:44.527107Z"
    },
    "papermill": {
     "duration": 0.043606,
     "end_time": "2021-03-25T12:35:44.527309",
     "exception": false,
     "start_time": "2021-03-25T12:35:44.483703",
     "status": "completed"
    },
    "tags": []
   },
   "outputs": [],
   "source": [
    "df_cohort[\"period_number\"]=(df_cohort.order_month-df_cohort.cohort).apply(attrgetter(\"n\"))"
   ]
  },
  {
   "cell_type": "code",
   "execution_count": 19,
   "metadata": {
    "execution": {
     "iopub.execute_input": "2021-03-25T12:35:44.601014Z",
     "iopub.status.busy": "2021-03-25T12:35:44.597223Z",
     "iopub.status.idle": "2021-03-25T12:35:44.624779Z",
     "shell.execute_reply": "2021-03-25T12:35:44.623017Z"
    },
    "papermill": {
     "duration": 0.065537,
     "end_time": "2021-03-25T12:35:44.624962",
     "exception": false,
     "start_time": "2021-03-25T12:35:44.559425",
     "status": "completed"
    },
    "tags": []
   },
   "outputs": [],
   "source": [
    "#7. generating cohort_pivot\n",
    "cohort_pivot=df_cohort.pivot_table(index=\"cohort\",columns=\"period_number\",values=\"n_customers\")"
   ]
  },
  {
   "cell_type": "code",
   "execution_count": 20,
   "metadata": {
    "execution": {
     "iopub.execute_input": "2021-03-25T12:35:44.697813Z",
     "iopub.status.busy": "2021-03-25T12:35:44.696976Z",
     "iopub.status.idle": "2021-03-25T12:35:44.701326Z",
     "shell.execute_reply": "2021-03-25T12:35:44.702171Z"
    },
    "papermill": {
     "duration": 0.044683,
     "end_time": "2021-03-25T12:35:44.702378",
     "exception": false,
     "start_time": "2021-03-25T12:35:44.657695",
     "status": "completed"
    },
    "tags": []
   },
   "outputs": [],
   "source": [
    "cohort_size=cohort_pivot.iloc[:,0]"
   ]
  },
  {
   "cell_type": "code",
   "execution_count": 21,
   "metadata": {
    "execution": {
     "iopub.execute_input": "2021-03-25T12:35:44.769696Z",
     "iopub.status.busy": "2021-03-25T12:35:44.768731Z",
     "iopub.status.idle": "2021-03-25T12:35:44.773168Z",
     "shell.execute_reply": "2021-03-25T12:35:44.773750Z"
    },
    "papermill": {
     "duration": 0.041053,
     "end_time": "2021-03-25T12:35:44.773963",
     "exception": false,
     "start_time": "2021-03-25T12:35:44.732910",
     "status": "completed"
    },
    "tags": []
   },
   "outputs": [],
   "source": [
    "#8.generating retention_matrix\n",
    "retention_matrix=cohort_pivot.divide(cohort_size,axis=0)"
   ]
  },
  {
   "cell_type": "code",
   "execution_count": 22,
   "metadata": {
    "execution": {
     "iopub.execute_input": "2021-03-25T12:35:44.863787Z",
     "iopub.status.busy": "2021-03-25T12:35:44.863113Z",
     "iopub.status.idle": "2021-03-25T12:35:44.871017Z",
     "shell.execute_reply": "2021-03-25T12:35:44.870151Z"
    },
    "papermill": {
     "duration": 0.064708,
     "end_time": "2021-03-25T12:35:44.871182",
     "exception": false,
     "start_time": "2021-03-25T12:35:44.806474",
     "status": "completed"
    },
    "tags": []
   },
   "outputs": [
    {
     "data": {
      "text/html": [
       "<div>\n",
       "<style scoped>\n",
       "    .dataframe tbody tr th:only-of-type {\n",
       "        vertical-align: middle;\n",
       "    }\n",
       "\n",
       "    .dataframe tbody tr th {\n",
       "        vertical-align: top;\n",
       "    }\n",
       "\n",
       "    .dataframe thead th {\n",
       "        text-align: right;\n",
       "    }\n",
       "</style>\n",
       "<table border=\"1\" class=\"dataframe\">\n",
       "  <thead>\n",
       "    <tr style=\"text-align: right;\">\n",
       "      <th>period_number</th>\n",
       "      <th>0</th>\n",
       "      <th>1</th>\n",
       "      <th>2</th>\n",
       "      <th>3</th>\n",
       "      <th>4</th>\n",
       "      <th>5</th>\n",
       "      <th>6</th>\n",
       "      <th>7</th>\n",
       "      <th>8</th>\n",
       "      <th>9</th>\n",
       "      <th>10</th>\n",
       "      <th>11</th>\n",
       "      <th>12</th>\n",
       "    </tr>\n",
       "    <tr>\n",
       "      <th>cohort</th>\n",
       "      <th></th>\n",
       "      <th></th>\n",
       "      <th></th>\n",
       "      <th></th>\n",
       "      <th></th>\n",
       "      <th></th>\n",
       "      <th></th>\n",
       "      <th></th>\n",
       "      <th></th>\n",
       "      <th></th>\n",
       "      <th></th>\n",
       "      <th></th>\n",
       "      <th></th>\n",
       "    </tr>\n",
       "  </thead>\n",
       "  <tbody>\n",
       "    <tr>\n",
       "      <th>2010-12</th>\n",
       "      <td>1.0</td>\n",
       "      <td>0.381857</td>\n",
       "      <td>0.334388</td>\n",
       "      <td>0.387131</td>\n",
       "      <td>0.359705</td>\n",
       "      <td>0.396624</td>\n",
       "      <td>0.379747</td>\n",
       "      <td>0.354430</td>\n",
       "      <td>0.354430</td>\n",
       "      <td>0.394515</td>\n",
       "      <td>0.373418</td>\n",
       "      <td>0.500000</td>\n",
       "      <td>0.274262</td>\n",
       "    </tr>\n",
       "    <tr>\n",
       "      <th>2011-01</th>\n",
       "      <td>1.0</td>\n",
       "      <td>0.239905</td>\n",
       "      <td>0.282660</td>\n",
       "      <td>0.242280</td>\n",
       "      <td>0.327791</td>\n",
       "      <td>0.299287</td>\n",
       "      <td>0.261283</td>\n",
       "      <td>0.256532</td>\n",
       "      <td>0.311164</td>\n",
       "      <td>0.346793</td>\n",
       "      <td>0.368171</td>\n",
       "      <td>0.149644</td>\n",
       "      <td>NaN</td>\n",
       "    </tr>\n",
       "    <tr>\n",
       "      <th>2011-02</th>\n",
       "      <td>1.0</td>\n",
       "      <td>0.247368</td>\n",
       "      <td>0.192105</td>\n",
       "      <td>0.278947</td>\n",
       "      <td>0.268421</td>\n",
       "      <td>0.247368</td>\n",
       "      <td>0.255263</td>\n",
       "      <td>0.281579</td>\n",
       "      <td>0.257895</td>\n",
       "      <td>0.313158</td>\n",
       "      <td>0.092105</td>\n",
       "      <td>NaN</td>\n",
       "      <td>NaN</td>\n",
       "    </tr>\n",
       "    <tr>\n",
       "      <th>2011-03</th>\n",
       "      <td>1.0</td>\n",
       "      <td>0.190909</td>\n",
       "      <td>0.254545</td>\n",
       "      <td>0.218182</td>\n",
       "      <td>0.231818</td>\n",
       "      <td>0.177273</td>\n",
       "      <td>0.263636</td>\n",
       "      <td>0.238636</td>\n",
       "      <td>0.288636</td>\n",
       "      <td>0.088636</td>\n",
       "      <td>NaN</td>\n",
       "      <td>NaN</td>\n",
       "      <td>NaN</td>\n",
       "    </tr>\n",
       "    <tr>\n",
       "      <th>2011-04</th>\n",
       "      <td>1.0</td>\n",
       "      <td>0.227425</td>\n",
       "      <td>0.220736</td>\n",
       "      <td>0.210702</td>\n",
       "      <td>0.207358</td>\n",
       "      <td>0.237458</td>\n",
       "      <td>0.230769</td>\n",
       "      <td>0.260870</td>\n",
       "      <td>0.083612</td>\n",
       "      <td>NaN</td>\n",
       "      <td>NaN</td>\n",
       "      <td>NaN</td>\n",
       "      <td>NaN</td>\n",
       "    </tr>\n",
       "    <tr>\n",
       "      <th>...</th>\n",
       "      <td>...</td>\n",
       "      <td>...</td>\n",
       "      <td>...</td>\n",
       "      <td>...</td>\n",
       "      <td>...</td>\n",
       "      <td>...</td>\n",
       "      <td>...</td>\n",
       "      <td>...</td>\n",
       "      <td>...</td>\n",
       "      <td>...</td>\n",
       "      <td>...</td>\n",
       "      <td>...</td>\n",
       "      <td>...</td>\n",
       "    </tr>\n",
       "    <tr>\n",
       "      <th>2011-08</th>\n",
       "      <td>1.0</td>\n",
       "      <td>0.251497</td>\n",
       "      <td>0.251497</td>\n",
       "      <td>0.251497</td>\n",
       "      <td>0.137725</td>\n",
       "      <td>NaN</td>\n",
       "      <td>NaN</td>\n",
       "      <td>NaN</td>\n",
       "      <td>NaN</td>\n",
       "      <td>NaN</td>\n",
       "      <td>NaN</td>\n",
       "      <td>NaN</td>\n",
       "      <td>NaN</td>\n",
       "    </tr>\n",
       "    <tr>\n",
       "      <th>2011-09</th>\n",
       "      <td>1.0</td>\n",
       "      <td>0.298658</td>\n",
       "      <td>0.325503</td>\n",
       "      <td>0.120805</td>\n",
       "      <td>NaN</td>\n",
       "      <td>NaN</td>\n",
       "      <td>NaN</td>\n",
       "      <td>NaN</td>\n",
       "      <td>NaN</td>\n",
       "      <td>NaN</td>\n",
       "      <td>NaN</td>\n",
       "      <td>NaN</td>\n",
       "      <td>NaN</td>\n",
       "    </tr>\n",
       "    <tr>\n",
       "      <th>2011-10</th>\n",
       "      <td>1.0</td>\n",
       "      <td>0.264205</td>\n",
       "      <td>0.130682</td>\n",
       "      <td>NaN</td>\n",
       "      <td>NaN</td>\n",
       "      <td>NaN</td>\n",
       "      <td>NaN</td>\n",
       "      <td>NaN</td>\n",
       "      <td>NaN</td>\n",
       "      <td>NaN</td>\n",
       "      <td>NaN</td>\n",
       "      <td>NaN</td>\n",
       "      <td>NaN</td>\n",
       "    </tr>\n",
       "    <tr>\n",
       "      <th>2011-11</th>\n",
       "      <td>1.0</td>\n",
       "      <td>0.133956</td>\n",
       "      <td>NaN</td>\n",
       "      <td>NaN</td>\n",
       "      <td>NaN</td>\n",
       "      <td>NaN</td>\n",
       "      <td>NaN</td>\n",
       "      <td>NaN</td>\n",
       "      <td>NaN</td>\n",
       "      <td>NaN</td>\n",
       "      <td>NaN</td>\n",
       "      <td>NaN</td>\n",
       "      <td>NaN</td>\n",
       "    </tr>\n",
       "    <tr>\n",
       "      <th>2011-12</th>\n",
       "      <td>1.0</td>\n",
       "      <td>NaN</td>\n",
       "      <td>NaN</td>\n",
       "      <td>NaN</td>\n",
       "      <td>NaN</td>\n",
       "      <td>NaN</td>\n",
       "      <td>NaN</td>\n",
       "      <td>NaN</td>\n",
       "      <td>NaN</td>\n",
       "      <td>NaN</td>\n",
       "      <td>NaN</td>\n",
       "      <td>NaN</td>\n",
       "      <td>NaN</td>\n",
       "    </tr>\n",
       "  </tbody>\n",
       "</table>\n",
       "<p>13 rows × 13 columns</p>\n",
       "</div>"
      ],
      "text/plain": [
       "period_number   0         1         2         3         4         5   \\\n",
       "cohort                                                                 \n",
       "2010-12        1.0  0.381857  0.334388  0.387131  0.359705  0.396624   \n",
       "2011-01        1.0  0.239905  0.282660  0.242280  0.327791  0.299287   \n",
       "2011-02        1.0  0.247368  0.192105  0.278947  0.268421  0.247368   \n",
       "2011-03        1.0  0.190909  0.254545  0.218182  0.231818  0.177273   \n",
       "2011-04        1.0  0.227425  0.220736  0.210702  0.207358  0.237458   \n",
       "...            ...       ...       ...       ...       ...       ...   \n",
       "2011-08        1.0  0.251497  0.251497  0.251497  0.137725       NaN   \n",
       "2011-09        1.0  0.298658  0.325503  0.120805       NaN       NaN   \n",
       "2011-10        1.0  0.264205  0.130682       NaN       NaN       NaN   \n",
       "2011-11        1.0  0.133956       NaN       NaN       NaN       NaN   \n",
       "2011-12        1.0       NaN       NaN       NaN       NaN       NaN   \n",
       "\n",
       "period_number        6         7         8         9         10        11  \\\n",
       "cohort                                                                      \n",
       "2010-12        0.379747  0.354430  0.354430  0.394515  0.373418  0.500000   \n",
       "2011-01        0.261283  0.256532  0.311164  0.346793  0.368171  0.149644   \n",
       "2011-02        0.255263  0.281579  0.257895  0.313158  0.092105       NaN   \n",
       "2011-03        0.263636  0.238636  0.288636  0.088636       NaN       NaN   \n",
       "2011-04        0.230769  0.260870  0.083612       NaN       NaN       NaN   \n",
       "...                 ...       ...       ...       ...       ...       ...   \n",
       "2011-08             NaN       NaN       NaN       NaN       NaN       NaN   \n",
       "2011-09             NaN       NaN       NaN       NaN       NaN       NaN   \n",
       "2011-10             NaN       NaN       NaN       NaN       NaN       NaN   \n",
       "2011-11             NaN       NaN       NaN       NaN       NaN       NaN   \n",
       "2011-12             NaN       NaN       NaN       NaN       NaN       NaN   \n",
       "\n",
       "period_number        12  \n",
       "cohort                   \n",
       "2010-12        0.274262  \n",
       "2011-01             NaN  \n",
       "2011-02             NaN  \n",
       "2011-03             NaN  \n",
       "2011-04             NaN  \n",
       "...                 ...  \n",
       "2011-08             NaN  \n",
       "2011-09             NaN  \n",
       "2011-10             NaN  \n",
       "2011-11             NaN  \n",
       "2011-12             NaN  \n",
       "\n",
       "[13 rows x 13 columns]"
      ]
     },
     "execution_count": 22,
     "metadata": {},
     "output_type": "execute_result"
    }
   ],
   "source": [
    "retention_matrix"
   ]
  },
  {
   "cell_type": "code",
   "execution_count": 23,
   "metadata": {
    "execution": {
     "iopub.execute_input": "2021-03-25T12:35:44.947926Z",
     "iopub.status.busy": "2021-03-25T12:35:44.946381Z",
     "iopub.status.idle": "2021-03-25T12:35:44.948857Z",
     "shell.execute_reply": "2021-03-25T12:35:44.949368Z"
    },
    "papermill": {
     "duration": 0.046065,
     "end_time": "2021-03-25T12:35:44.949604",
     "exception": false,
     "start_time": "2021-03-25T12:35:44.903539",
     "status": "completed"
    },
    "tags": []
   },
   "outputs": [],
   "source": [
    "def create_retention_matrix(dataframe):\n",
    "    n_orders = dataframe.groupby(['CustomerID'])['InvoiceNo'].nunique()\n",
    "    dataframe['order_month'] = dataframe['InvoiceDate'].dt.to_period('M')\n",
    "    dataframe['cohort'] = dataframe.groupby('CustomerID')['InvoiceDate'] \\\n",
    "        .transform('min') \\\n",
    "        .dt.to_period('M')\n",
    "    df_cohort = dataframe.groupby(['cohort', 'order_month']) \\\n",
    "        .agg(n_customers=('CustomerID', 'nunique')) \\\n",
    "        .reset_index(drop=False)\n",
    "    df_cohort['period_number'] = (df_cohort.order_month - df_cohort.cohort).apply(attrgetter('n'))\n",
    "    cohort_pivot = df_cohort.pivot_table(index='cohort',\n",
    "                                         columns='period_number',\n",
    "                                         values='n_customers')\n",
    "\n",
    "    cohort_size = cohort_pivot.iloc[:, 0]\n",
    "    retention_matrix = cohort_pivot.divide(cohort_size, axis=0)\n",
    "    return retention_matrix\n"
   ]
  },
  {
   "cell_type": "code",
   "execution_count": 24,
   "metadata": {
    "execution": {
     "iopub.execute_input": "2021-03-25T12:35:45.024619Z",
     "iopub.status.busy": "2021-03-25T12:35:45.023950Z",
     "iopub.status.idle": "2021-03-25T12:35:45.135343Z",
     "shell.execute_reply": "2021-03-25T12:35:45.134675Z"
    },
    "papermill": {
     "duration": 0.152981,
     "end_time": "2021-03-25T12:35:45.135507",
     "exception": false,
     "start_time": "2021-03-25T12:35:44.982526",
     "status": "completed"
    },
    "tags": []
   },
   "outputs": [
    {
     "data": {
      "text/html": [
       "<div>\n",
       "<style scoped>\n",
       "    .dataframe tbody tr th:only-of-type {\n",
       "        vertical-align: middle;\n",
       "    }\n",
       "\n",
       "    .dataframe tbody tr th {\n",
       "        vertical-align: top;\n",
       "    }\n",
       "\n",
       "    .dataframe thead th {\n",
       "        text-align: right;\n",
       "    }\n",
       "</style>\n",
       "<table border=\"1\" class=\"dataframe\">\n",
       "  <thead>\n",
       "    <tr style=\"text-align: right;\">\n",
       "      <th>period_number</th>\n",
       "      <th>0</th>\n",
       "      <th>1</th>\n",
       "      <th>2</th>\n",
       "      <th>3</th>\n",
       "      <th>4</th>\n",
       "      <th>5</th>\n",
       "      <th>6</th>\n",
       "      <th>7</th>\n",
       "      <th>8</th>\n",
       "      <th>9</th>\n",
       "      <th>10</th>\n",
       "      <th>11</th>\n",
       "      <th>12</th>\n",
       "    </tr>\n",
       "    <tr>\n",
       "      <th>cohort</th>\n",
       "      <th></th>\n",
       "      <th></th>\n",
       "      <th></th>\n",
       "      <th></th>\n",
       "      <th></th>\n",
       "      <th></th>\n",
       "      <th></th>\n",
       "      <th></th>\n",
       "      <th></th>\n",
       "      <th></th>\n",
       "      <th></th>\n",
       "      <th></th>\n",
       "      <th></th>\n",
       "    </tr>\n",
       "  </thead>\n",
       "  <tbody>\n",
       "    <tr>\n",
       "      <th>2010-12</th>\n",
       "      <td>1.0</td>\n",
       "      <td>0.381857</td>\n",
       "      <td>0.334388</td>\n",
       "      <td>0.387131</td>\n",
       "      <td>0.359705</td>\n",
       "      <td>0.396624</td>\n",
       "      <td>0.379747</td>\n",
       "      <td>0.354430</td>\n",
       "      <td>0.354430</td>\n",
       "      <td>0.394515</td>\n",
       "      <td>0.373418</td>\n",
       "      <td>0.500000</td>\n",
       "      <td>0.274262</td>\n",
       "    </tr>\n",
       "    <tr>\n",
       "      <th>2011-01</th>\n",
       "      <td>1.0</td>\n",
       "      <td>0.239905</td>\n",
       "      <td>0.282660</td>\n",
       "      <td>0.242280</td>\n",
       "      <td>0.327791</td>\n",
       "      <td>0.299287</td>\n",
       "      <td>0.261283</td>\n",
       "      <td>0.256532</td>\n",
       "      <td>0.311164</td>\n",
       "      <td>0.346793</td>\n",
       "      <td>0.368171</td>\n",
       "      <td>0.149644</td>\n",
       "      <td>NaN</td>\n",
       "    </tr>\n",
       "    <tr>\n",
       "      <th>2011-02</th>\n",
       "      <td>1.0</td>\n",
       "      <td>0.247368</td>\n",
       "      <td>0.192105</td>\n",
       "      <td>0.278947</td>\n",
       "      <td>0.268421</td>\n",
       "      <td>0.247368</td>\n",
       "      <td>0.255263</td>\n",
       "      <td>0.281579</td>\n",
       "      <td>0.257895</td>\n",
       "      <td>0.313158</td>\n",
       "      <td>0.092105</td>\n",
       "      <td>NaN</td>\n",
       "      <td>NaN</td>\n",
       "    </tr>\n",
       "    <tr>\n",
       "      <th>2011-03</th>\n",
       "      <td>1.0</td>\n",
       "      <td>0.190909</td>\n",
       "      <td>0.254545</td>\n",
       "      <td>0.218182</td>\n",
       "      <td>0.231818</td>\n",
       "      <td>0.177273</td>\n",
       "      <td>0.263636</td>\n",
       "      <td>0.238636</td>\n",
       "      <td>0.288636</td>\n",
       "      <td>0.088636</td>\n",
       "      <td>NaN</td>\n",
       "      <td>NaN</td>\n",
       "      <td>NaN</td>\n",
       "    </tr>\n",
       "    <tr>\n",
       "      <th>2011-04</th>\n",
       "      <td>1.0</td>\n",
       "      <td>0.227425</td>\n",
       "      <td>0.220736</td>\n",
       "      <td>0.210702</td>\n",
       "      <td>0.207358</td>\n",
       "      <td>0.237458</td>\n",
       "      <td>0.230769</td>\n",
       "      <td>0.260870</td>\n",
       "      <td>0.083612</td>\n",
       "      <td>NaN</td>\n",
       "      <td>NaN</td>\n",
       "      <td>NaN</td>\n",
       "      <td>NaN</td>\n",
       "    </tr>\n",
       "    <tr>\n",
       "      <th>...</th>\n",
       "      <td>...</td>\n",
       "      <td>...</td>\n",
       "      <td>...</td>\n",
       "      <td>...</td>\n",
       "      <td>...</td>\n",
       "      <td>...</td>\n",
       "      <td>...</td>\n",
       "      <td>...</td>\n",
       "      <td>...</td>\n",
       "      <td>...</td>\n",
       "      <td>...</td>\n",
       "      <td>...</td>\n",
       "      <td>...</td>\n",
       "    </tr>\n",
       "    <tr>\n",
       "      <th>2011-08</th>\n",
       "      <td>1.0</td>\n",
       "      <td>0.251497</td>\n",
       "      <td>0.251497</td>\n",
       "      <td>0.251497</td>\n",
       "      <td>0.137725</td>\n",
       "      <td>NaN</td>\n",
       "      <td>NaN</td>\n",
       "      <td>NaN</td>\n",
       "      <td>NaN</td>\n",
       "      <td>NaN</td>\n",
       "      <td>NaN</td>\n",
       "      <td>NaN</td>\n",
       "      <td>NaN</td>\n",
       "    </tr>\n",
       "    <tr>\n",
       "      <th>2011-09</th>\n",
       "      <td>1.0</td>\n",
       "      <td>0.298658</td>\n",
       "      <td>0.325503</td>\n",
       "      <td>0.120805</td>\n",
       "      <td>NaN</td>\n",
       "      <td>NaN</td>\n",
       "      <td>NaN</td>\n",
       "      <td>NaN</td>\n",
       "      <td>NaN</td>\n",
       "      <td>NaN</td>\n",
       "      <td>NaN</td>\n",
       "      <td>NaN</td>\n",
       "      <td>NaN</td>\n",
       "    </tr>\n",
       "    <tr>\n",
       "      <th>2011-10</th>\n",
       "      <td>1.0</td>\n",
       "      <td>0.264205</td>\n",
       "      <td>0.130682</td>\n",
       "      <td>NaN</td>\n",
       "      <td>NaN</td>\n",
       "      <td>NaN</td>\n",
       "      <td>NaN</td>\n",
       "      <td>NaN</td>\n",
       "      <td>NaN</td>\n",
       "      <td>NaN</td>\n",
       "      <td>NaN</td>\n",
       "      <td>NaN</td>\n",
       "      <td>NaN</td>\n",
       "    </tr>\n",
       "    <tr>\n",
       "      <th>2011-11</th>\n",
       "      <td>1.0</td>\n",
       "      <td>0.133956</td>\n",
       "      <td>NaN</td>\n",
       "      <td>NaN</td>\n",
       "      <td>NaN</td>\n",
       "      <td>NaN</td>\n",
       "      <td>NaN</td>\n",
       "      <td>NaN</td>\n",
       "      <td>NaN</td>\n",
       "      <td>NaN</td>\n",
       "      <td>NaN</td>\n",
       "      <td>NaN</td>\n",
       "      <td>NaN</td>\n",
       "    </tr>\n",
       "    <tr>\n",
       "      <th>2011-12</th>\n",
       "      <td>1.0</td>\n",
       "      <td>NaN</td>\n",
       "      <td>NaN</td>\n",
       "      <td>NaN</td>\n",
       "      <td>NaN</td>\n",
       "      <td>NaN</td>\n",
       "      <td>NaN</td>\n",
       "      <td>NaN</td>\n",
       "      <td>NaN</td>\n",
       "      <td>NaN</td>\n",
       "      <td>NaN</td>\n",
       "      <td>NaN</td>\n",
       "      <td>NaN</td>\n",
       "    </tr>\n",
       "  </tbody>\n",
       "</table>\n",
       "<p>13 rows × 13 columns</p>\n",
       "</div>"
      ],
      "text/plain": [
       "period_number   0         1         2         3         4         5   \\\n",
       "cohort                                                                 \n",
       "2010-12        1.0  0.381857  0.334388  0.387131  0.359705  0.396624   \n",
       "2011-01        1.0  0.239905  0.282660  0.242280  0.327791  0.299287   \n",
       "2011-02        1.0  0.247368  0.192105  0.278947  0.268421  0.247368   \n",
       "2011-03        1.0  0.190909  0.254545  0.218182  0.231818  0.177273   \n",
       "2011-04        1.0  0.227425  0.220736  0.210702  0.207358  0.237458   \n",
       "...            ...       ...       ...       ...       ...       ...   \n",
       "2011-08        1.0  0.251497  0.251497  0.251497  0.137725       NaN   \n",
       "2011-09        1.0  0.298658  0.325503  0.120805       NaN       NaN   \n",
       "2011-10        1.0  0.264205  0.130682       NaN       NaN       NaN   \n",
       "2011-11        1.0  0.133956       NaN       NaN       NaN       NaN   \n",
       "2011-12        1.0       NaN       NaN       NaN       NaN       NaN   \n",
       "\n",
       "period_number        6         7         8         9         10        11  \\\n",
       "cohort                                                                      \n",
       "2010-12        0.379747  0.354430  0.354430  0.394515  0.373418  0.500000   \n",
       "2011-01        0.261283  0.256532  0.311164  0.346793  0.368171  0.149644   \n",
       "2011-02        0.255263  0.281579  0.257895  0.313158  0.092105       NaN   \n",
       "2011-03        0.263636  0.238636  0.288636  0.088636       NaN       NaN   \n",
       "2011-04        0.230769  0.260870  0.083612       NaN       NaN       NaN   \n",
       "...                 ...       ...       ...       ...       ...       ...   \n",
       "2011-08             NaN       NaN       NaN       NaN       NaN       NaN   \n",
       "2011-09             NaN       NaN       NaN       NaN       NaN       NaN   \n",
       "2011-10             NaN       NaN       NaN       NaN       NaN       NaN   \n",
       "2011-11             NaN       NaN       NaN       NaN       NaN       NaN   \n",
       "2011-12             NaN       NaN       NaN       NaN       NaN       NaN   \n",
       "\n",
       "period_number        12  \n",
       "cohort                   \n",
       "2010-12        0.274262  \n",
       "2011-01             NaN  \n",
       "2011-02             NaN  \n",
       "2011-03             NaN  \n",
       "2011-04             NaN  \n",
       "...                 ...  \n",
       "2011-08             NaN  \n",
       "2011-09             NaN  \n",
       "2011-10             NaN  \n",
       "2011-11             NaN  \n",
       "2011-12             NaN  \n",
       "\n",
       "[13 rows x 13 columns]"
      ]
     },
     "execution_count": 24,
     "metadata": {},
     "output_type": "execute_result"
    }
   ],
   "source": [
    "create_retention_matrix(df)"
   ]
  },
  {
   "cell_type": "code",
   "execution_count": 25,
   "metadata": {
    "execution": {
     "iopub.execute_input": "2021-03-25T12:35:45.208165Z",
     "iopub.status.busy": "2021-03-25T12:35:45.207195Z",
     "iopub.status.idle": "2021-03-25T12:35:45.211493Z",
     "shell.execute_reply": "2021-03-25T12:35:45.210785Z"
    },
    "papermill": {
     "duration": 0.0434,
     "end_time": "2021-03-25T12:35:45.211650",
     "exception": false,
     "start_time": "2021-03-25T12:35:45.168250",
     "status": "completed"
    },
    "tags": []
   },
   "outputs": [],
   "source": [
    "####################################\n",
    "# 3. Visualization of retention matrix with heatmap\n",
    "####################################"
   ]
  },
  {
   "cell_type": "code",
   "execution_count": 26,
   "metadata": {
    "execution": {
     "iopub.execute_input": "2021-03-25T12:35:45.326699Z",
     "iopub.status.busy": "2021-03-25T12:35:45.305440Z",
     "iopub.status.idle": "2021-03-25T12:35:46.811232Z",
     "shell.execute_reply": "2021-03-25T12:35:46.810551Z"
    },
    "papermill": {
     "duration": 1.567562,
     "end_time": "2021-03-25T12:35:46.811377",
     "exception": false,
     "start_time": "2021-03-25T12:35:45.243815",
     "status": "completed"
    },
    "tags": []
   },
   "outputs": [
    {
     "data": {
      "image/png": "[encoded data removed]",
      "text/plain": [
       "<Figure size 864x576 with 3 Axes>"
      ]
     },
     "metadata": {
      "needs_background": "light"
     },
     "output_type": "display_data"
    }
   ],
   "source": [
    "import seaborn as sns \n",
    "sns.axes_style(\"white\")\n",
    "fig,ax=plt.subplots(1,2,figsize=(12,8),sharey=True,\n",
    "                   gridspec_kw={\"width_ratios\":[1,11]}\n",
    "                    #to create the grid the subplots are placed on\n",
    "                   )\n",
    "#retention matrix\n",
    "sns.heatmap(retention_matrix,annot=True,fmt=\".0%\" #showing on percentage of expressions\n",
    "            ,cmap=\"RdYlGn\",ax=ax[1])\n",
    "ax[1].set_title(\"monthly cohorts: user retention\",fontsize=16)\n",
    "ax[1].set(xlabel=\"# of periods\",ylabel=\"\")\n",
    "# cohort size\n",
    "cohort_size_df = pd.DataFrame(cohort_size).rename(columns={0: 'cohort_size'})\n",
    "white_cmap = mcolors.ListedColormap(['white'])\n",
    "sns.heatmap(cohort_size_df,\n",
    "            annot=True,\n",
    "            cbar=False,  # we dont want cbar for second plot (right side colorful scaling)\n",
    "            fmt='g',\n",
    "            cmap=white_cmap,\n",
    "            ax=ax[0])\n",
    "fig.tight_layout()\n",
    "plt.show()"
   ]
  },
  {
   "cell_type": "code",
   "execution_count": null,
   "metadata": {
    "papermill": {
     "duration": 0.037419,
     "end_time": "2021-03-25T12:35:46.885227",
     "exception": false,
     "start_time": "2021-03-25T12:35:46.847808",
     "status": "completed"
    },
    "tags": []
   },
   "outputs": [],
   "source": []
  },
  {
   "cell_type": "code",
   "execution_count": null,
   "metadata": {
    "papermill": {
     "duration": 0.03657,
     "end_time": "2021-03-25T12:35:46.958269",
     "exception": false,
     "start_time": "2021-03-25T12:35:46.921699",
     "status": "completed"
    },
    "tags": []
   },
   "outputs": [],
   "source": []
  }
 ],
 "metadata": {
  "kernelspec": {
   "display_name": "Python 3",
   "language": "python",
   "name": "python3"
  },
  "language_info": {
   "codemirror_mode": {
    "name": "ipython",
    "version": 3
   },
   "file_extension": ".py",
   "mimetype": "text/x-python",
   "name": "python",
   "nbconvert_exporter": "python",
   "pygments_lexer": "ipython3",
   "version": "3.7.9"
  },
  "papermill": {
   "default_parameters": {},
   "duration": 151.938832,
   "end_time": "2021-03-25T12:35:48.208015",
   "environment_variables": {},
   "exception": null,
   "input_path": "__notebook__.ipynb",
   "output_path": "__notebook__.ipynb",
   "parameters": {},
   "start_time": "2021-03-25T12:33:16.269183",
   "version": "2.2.2"
  }
 },
 "nbformat": 4,
 "nbformat_minor": 4
}
